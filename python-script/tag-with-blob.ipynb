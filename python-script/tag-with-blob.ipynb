{
 "cells": [
  {
   "cell_type": "code",
   "execution_count": 1,
   "metadata": {},
   "outputs": [],
   "source": [
    "import pandas as pd\n",
    "from textblob import TextBlob\n",
    "\n",
    "csv_file = \"../dataset/sentences.csv\"  \n",
    "df = pd.read_csv(csv_file)"
   ]
  },
  {
   "cell_type": "code",
   "execution_count": 2,
   "metadata": {},
   "outputs": [],
   "source": [
    "def analyze_sentence(sentence):\n",
    "    blob = TextBlob(sentence)\n",
    "    return blob.sentiment.polarity, blob.sentiment.subjectivity"
   ]
  },
  {
   "cell_type": "code",
   "execution_count": 4,
   "metadata": {},
   "outputs": [],
   "source": [
    "df['Polarity'], df['Subjectivity'] = zip(*df['tweets'].apply(analyze_sentence))\n"
   ]
  },
  {
   "cell_type": "code",
   "execution_count": 7,
   "metadata": {},
   "outputs": [
    {
     "name": "stdout",
     "output_type": "stream",
     "text": [
      "   id                                             tweets   labels  Polarity  \\\n",
      "0   0  ChatGPT: Optimizing Language Models for Dialog...  neutral  0.000000   \n",
      "1   1  Try talking with ChatGPT, our new AI system wh...     good  0.136364   \n",
      "2   2  ChatGPT: Optimizing Language Models for Dialog...  neutral  0.000000   \n",
      "3   3  THRILLED to share that ChatGPT, our new model ...     good  0.302273   \n",
      "4   4  As of 2 minutes ago, @OpenAI released their ne...      bad  0.211039   \n",
      "\n",
      "   Subjectivity  \n",
      "0      0.000000  \n",
      "1      0.454545  \n",
      "2      0.000000  \n",
      "3      0.479242  \n",
      "4      0.495130  \n"
     ]
    }
   ],
   "source": [
    "print(df.head(5))\n"
   ]
  },
  {
   "cell_type": "code",
   "execution_count": 10,
   "metadata": {},
   "outputs": [],
   "source": [
    "df.to_csv(\"../dataset/tagged.csv\", index=False)\n"
   ]
  }
 ],
 "metadata": {
  "kernelspec": {
   "display_name": "Python 3",
   "language": "python",
   "name": "python3"
  },
  "language_info": {
   "codemirror_mode": {
    "name": "ipython",
    "version": 3
   },
   "file_extension": ".py",
   "mimetype": "text/x-python",
   "name": "python",
   "nbconvert_exporter": "python",
   "pygments_lexer": "ipython3",
   "version": "3.12.3"
  }
 },
 "nbformat": 4,
 "nbformat_minor": 2
}
