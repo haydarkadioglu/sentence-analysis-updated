{
 "cells": [
  {
   "cell_type": "code",
   "execution_count": 20,
   "metadata": {},
   "outputs": [],
   "source": [
    "import joblib\n"
   ]
  },
  {
   "cell_type": "code",
   "execution_count": null,
   "metadata": {},
   "outputs": [],
   "source": [
    "vectorizer = joblib.load('models/vectorizer.joblib')"
   ]
  },
  {
   "cell_type": "code",
   "execution_count": 24,
   "metadata": {},
   "outputs": [],
   "source": [
    "model = joblib.load('models/Linear Regressor.joblib')"
   ]
  },
  {
   "cell_type": "code",
   "execution_count": 25,
   "metadata": {},
   "outputs": [
    {
     "name": "stderr",
     "output_type": "stream",
     "text": [
      "[nltk_data] Downloading package stopwords to\n",
      "[nltk_data]     C:\\Users\\ahayd\\AppData\\Roaming\\nltk_data...\n",
      "[nltk_data]   Package stopwords is already up-to-date!\n"
     ]
    }
   ],
   "source": [
    "import re\n",
    "import nltk\n",
    "from nltk.corpus import stopwords\n",
    "import numpy as np\n",
    "\n",
    "\n",
    "nltk.download(\"stopwords\")\n",
    "def procces_sentence(review:str)->str:\n",
    "    sample_review = re.sub(r'http\\S+', '', review)\n",
    "    sample_review = re.sub(\"[^a-zA-Z]\",' ',sample_review)\n",
    "    sample_review = sample_review.lower()\n",
    "    sample_review = sample_review.split()\n",
    "    swords = set(stopwords.words(\"english\"))                     \n",
    "    sample_review = [w for w in sample_review if w not in swords]        \n",
    "    sample_review = \" \".join(sample_review)\n",
    "    return sample_review\n",
    "\n",
    "\n",
    "def predict_sentiment(new_sentence:str, model, vectorizer)->str:\n",
    "    cleaned_sentence = procces_sentence(new_sentence)\n",
    "    new_sentence_vector = vectorizer.transform([cleaned_sentence])\n",
    "    new_sentence_vector = new_sentence_vector.toarray()\n",
    "    prediction = model.predict(new_sentence_vector)\n",
    "\n",
    "    return prediction\n"
   ]
  },
  {
   "cell_type": "code",
   "execution_count": 34,
   "metadata": {},
   "outputs": [],
   "source": [
    "\n",
    "\n",
    "# Example usage:\n",
    "new_sentence = \"You are the stressful\"\n",
    "pred = predict_sentiment(new_sentence, model, vectorizer)\n"
   ]
  },
  {
   "cell_type": "code",
   "execution_count": 35,
   "metadata": {},
   "outputs": [
    {
     "data": {
      "text/plain": [
       "array([[0.16655241, 0.11858083]])"
      ]
     },
     "execution_count": 35,
     "metadata": {},
     "output_type": "execute_result"
    }
   ],
   "source": [
    "pred"
   ]
  }
 ],
 "metadata": {
  "kernelspec": {
   "display_name": "Python 3",
   "language": "python",
   "name": "python3"
  },
  "language_info": {
   "codemirror_mode": {
    "name": "ipython",
    "version": 3
   },
   "file_extension": ".py",
   "mimetype": "text/x-python",
   "name": "python",
   "nbconvert_exporter": "python",
   "pygments_lexer": "ipython3",
   "version": "3.12.3"
  }
 },
 "nbformat": 4,
 "nbformat_minor": 2
}
