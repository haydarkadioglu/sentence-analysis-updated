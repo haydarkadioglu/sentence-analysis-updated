{
 "cells": [
  {
   "cell_type": "code",
   "execution_count": 2,
   "metadata": {},
   "outputs": [],
   "source": [
    "import numpy as np\n",
    "import pandas as pd\n",
    "import matplotlib.pyplot as plt\n",
    "from sklearn.feature_extraction.text import CountVectorizer\n",
    "from sklearn.ensemble import RandomForestClassifier\n",
    "import re\n",
    "import nltk\n",
    "from sklearn.model_selection import train_test_split\n",
    "from nltk.corpus import stopwords\n",
    "import joblib\n"
   ]
  },
  {
   "cell_type": "code",
   "execution_count": 3,
   "metadata": {},
   "outputs": [],
   "source": [
    "df = pd.read_csv('../dataset/tagged.csv',  delimiter=',', quoting=2, encoding=\"utf-8\")"
   ]
  },
  {
   "cell_type": "code",
   "execution_count": 4,
   "metadata": {},
   "outputs": [
    {
     "data": {
      "text/html": [
       "<div>\n",
       "<style scoped>\n",
       "    .dataframe tbody tr th:only-of-type {\n",
       "        vertical-align: middle;\n",
       "    }\n",
       "\n",
       "    .dataframe tbody tr th {\n",
       "        vertical-align: top;\n",
       "    }\n",
       "\n",
       "    .dataframe thead th {\n",
       "        text-align: right;\n",
       "    }\n",
       "</style>\n",
       "<table border=\"1\" class=\"dataframe\">\n",
       "  <thead>\n",
       "    <tr style=\"text-align: right;\">\n",
       "      <th></th>\n",
       "      <th>id</th>\n",
       "      <th>tweets</th>\n",
       "      <th>Polarity</th>\n",
       "      <th>Subjectivity</th>\n",
       "    </tr>\n",
       "  </thead>\n",
       "  <tbody>\n",
       "    <tr>\n",
       "      <th>0</th>\n",
       "      <td>0.0</td>\n",
       "      <td>ChatGPT: Optimizing Language Models for Dialog...</td>\n",
       "      <td>0.000000</td>\n",
       "      <td>0.000000</td>\n",
       "    </tr>\n",
       "    <tr>\n",
       "      <th>1</th>\n",
       "      <td>1.0</td>\n",
       "      <td>Try talking with ChatGPT, our new AI system wh...</td>\n",
       "      <td>0.136364</td>\n",
       "      <td>0.454545</td>\n",
       "    </tr>\n",
       "    <tr>\n",
       "      <th>2</th>\n",
       "      <td>2.0</td>\n",
       "      <td>ChatGPT: Optimizing Language Models for Dialog...</td>\n",
       "      <td>0.000000</td>\n",
       "      <td>0.000000</td>\n",
       "    </tr>\n",
       "    <tr>\n",
       "      <th>3</th>\n",
       "      <td>3.0</td>\n",
       "      <td>THRILLED to share that ChatGPT, our new model ...</td>\n",
       "      <td>0.302273</td>\n",
       "      <td>0.479242</td>\n",
       "    </tr>\n",
       "    <tr>\n",
       "      <th>4</th>\n",
       "      <td>4.0</td>\n",
       "      <td>As of 2 minutes ago, @OpenAI released their ne...</td>\n",
       "      <td>0.211039</td>\n",
       "      <td>0.495130</td>\n",
       "    </tr>\n",
       "  </tbody>\n",
       "</table>\n",
       "</div>"
      ],
      "text/plain": [
       "    id                                             tweets  Polarity  \\\n",
       "0  0.0  ChatGPT: Optimizing Language Models for Dialog...  0.000000   \n",
       "1  1.0  Try talking with ChatGPT, our new AI system wh...  0.136364   \n",
       "2  2.0  ChatGPT: Optimizing Language Models for Dialog...  0.000000   \n",
       "3  3.0  THRILLED to share that ChatGPT, our new model ...  0.302273   \n",
       "4  4.0  As of 2 minutes ago, @OpenAI released their ne...  0.211039   \n",
       "\n",
       "   Subjectivity  \n",
       "0      0.000000  \n",
       "1      0.454545  \n",
       "2      0.000000  \n",
       "3      0.479242  \n",
       "4      0.495130  "
      ]
     },
     "execution_count": 4,
     "metadata": {},
     "output_type": "execute_result"
    }
   ],
   "source": [
    "df.head(5)"
   ]
  },
  {
   "cell_type": "code",
   "execution_count": 5,
   "metadata": {},
   "outputs": [],
   "source": [
    "def procces_sentence(review:str)->str:\n",
    "    sample_review = re.sub(r'http\\S+', '', review)\n",
    "    sample_review = re.sub(\"[^a-zA-Z]\",' ',sample_review)\n",
    "    sample_review = sample_review.lower()\n",
    "    sample_review = sample_review.split()\n",
    "    swords = set(stopwords.words(\"english\"))                     \n",
    "    sample_review = [w for w in sample_review if w not in swords and len(w) > 1]\n",
    "    sample_review = \" \".join(sample_review)\n",
    "    return sample_review\n",
    "\n",
    "def take_res(count:int)->list:\n",
    "    sub = df[\"Subjectivity\"][count]\n",
    "    pol = df[\"Polarity\"][count]\n",
    "    return [pol, sub]\n",
    "    \n",
    "    \n"
   ]
  },
  {
   "cell_type": "code",
   "execution_count": 6,
   "metadata": {},
   "outputs": [
    {
     "name": "stderr",
     "output_type": "stream",
     "text": [
      "100%|██████████| 219200/219200 [00:36<00:00, 6067.88it/s]\n"
     ]
    }
   ],
   "source": [
    "from tqdm import tqdm\n",
    "\n",
    "count_t = 219288\n",
    "\n",
    "trainx = []\n",
    "trainy = []\n",
    "for i in tqdm(range(219200)):\n",
    "    trainx.append(procces_sentence(df[\"tweets\"][i]))\n",
    "    trainy.append(take_res(i))\n",
    "\n"
   ]
  },
  {
   "cell_type": "code",
   "execution_count": 7,
   "metadata": {},
   "outputs": [],
   "source": [
    "trainy = np.array(trainy)\n",
    "train_x, test_x, y_train, y_test = train_test_split(trainx,trainy, test_size = 0.1)\n",
    "vectorizer = CountVectorizer( max_features = 40000 )\n",
    "train_x = vectorizer.fit_transform(train_x)\n",
    "\n"
   ]
  },
  {
   "cell_type": "code",
   "execution_count": 8,
   "metadata": {},
   "outputs": [],
   "source": [
    "test_xx = vectorizer.transform(test_x)\n",
    "test_xx\n",
    "test_xx = test_xx.toarray()"
   ]
  },
  {
   "cell_type": "code",
   "execution_count": 9,
   "metadata": {},
   "outputs": [
    {
     "name": "stdout",
     "output_type": "stream",
     "text": [
      "Linear Regressor: RMSE = 0.23039232806310442/model saved\n",
      "AdaBoost Regressor: RMSE = 0.2988164968719073/model saved\n",
      "K Neighbors Regressor: RMSE = 0.28313674332722266/model saved\n",
      "CatBoost Regressor: RMSE = 0.21024351889150003/model saved\n",
      "xgboost: RMSE = 0.3797227306020127/model saved\n",
      "Regression Results:\n",
      "                           RMSE\n",
      "Linear Regressor       0.230392\n",
      "AdaBoost Regressor     0.298816\n",
      "K Neighbors Regressor  0.283137\n",
      "CatBoost Regressor     0.210244\n",
      "xgboost                0.379723\n"
     ]
    }
   ],
   "source": [
    "from sklearn.linear_model import LinearRegression\n",
    "from sklearn.ensemble import RandomForestRegressor, AdaBoostRegressor, ExtraTreesRegressor\n",
    "from sklearn.tree import DecisionTreeRegressor\n",
    "from sklearn.neighbors import KNeighborsRegressor\n",
    "from sklearn.multioutput import MultiOutputRegressor\n",
    "from sklearn.metrics import mean_squared_error\n",
    "import xgboost as xgb\n",
    "from catboost import CatBoostRegressor\n",
    "import pandas as pd\n",
    "import numpy as np\n",
    "\n",
    "models = {\n",
    "\n",
    "    'Linear Regressor': MultiOutputRegressor(LinearRegression()),\n",
    "    # 'Random Forest Regressor': MultiOutputRegressor(RandomForestRegressor()),\n",
    "    # 'Extra Trees Regressor': MultiOutputRegressor(ExtraTreesRegressor()),\n",
    "    'AdaBoost Regressor': MultiOutputRegressor(AdaBoostRegressor()),\n",
    "    # 'Decision Tree Regressor': MultiOutputRegressor(DecisionTreeRegressor()),\n",
    "    'K Neighbors Regressor': MultiOutputRegressor(KNeighborsRegressor()),\n",
    "    'CatBoost Regressor': MultiOutputRegressor(CatBoostRegressor(learning_rate=0.1, depth=6, iterations=500, verbose=0)),\n",
    "    'xgboost': MultiOutputRegressor(xgb.XGBRegressor(objective='reg:squarederror')),    \n",
    "\n",
    "}\n",
    "\n",
    "results_regression = {}\n",
    "\n",
    "for name, model in models.items():\n",
    "    model.fit(train_x, y_train)\n",
    "    y_pred = model.predict(test_xx)\n",
    "    rmse = np.sqrt(mean_squared_error(y_test, y_pred))\n",
    "    results_regression[name] = {'RMSE': rmse}\n",
    "    joblib.dump(model, name)\n",
    "    print(f'{name}: RMSE = {rmse}')\n",
    "\n",
    "\n",
    "\n",
    "results_regression_df = pd.DataFrame(results_regression).T\n",
    "\n",
    "print(\"Regression Results:\")\n",
    "print(results_regression_df)\n",
    "\n"
   ]
  },
  {
   "cell_type": "code",
   "execution_count": 22,
   "metadata": {},
   "outputs": [
    {
     "name": "stdout",
     "output_type": "stream",
     "text": [
      "Sentiment probabilities for the input: -0.5178470748209099\n"
     ]
    }
   ],
   "source": []
  }
 ],
 "metadata": {
  "kernelspec": {
   "display_name": "Python 3",
   "language": "python",
   "name": "python3"
  },
  "language_info": {
   "codemirror_mode": {
    "name": "ipython",
    "version": 3
   },
   "file_extension": ".py",
   "mimetype": "text/x-python",
   "name": "python",
   "nbconvert_exporter": "python",
   "pygments_lexer": "ipython3",
   "version": "3.12.3"
  }
 },
 "nbformat": 4,
 "nbformat_minor": 2
}
