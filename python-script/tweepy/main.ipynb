{
 "cells": [
  {
   "cell_type": "code",
   "execution_count": 1,
   "metadata": {},
   "outputs": [],
   "source": [
    "import tweepy\n",
    "import os \n"
   ]
  },
  {
   "cell_type": "code",
   "execution_count": 9,
   "metadata": {},
   "outputs": [],
   "source": [
    "with open(\"token.txt\", \"r\") as file:\n",
    "    lines = file.read().splitlines()\n",
    "    bearer_token = lines[0]\n",
    "    api_key = lines[1]\n",
    "    api_key_secret = lines[2]\n",
    "    access_token = lines[3]\n",
    "    access_token_secret = lines[4]"
   ]
  },
  {
   "cell_type": "code",
   "execution_count": 16,
   "metadata": {},
   "outputs": [],
   "source": [
    "client = tweepy.Client(bearer_token=bearer_token, \n",
    "                       consumer_key=api_key,\n",
    "                       consumer_secret=api_key_secret,\n",
    "                       access_token=access_token,\n",
    "                       access_token_secret=access_token_secret)"
   ]
  },
  {
   "cell_type": "code",
   "execution_count": 17,
   "metadata": {},
   "outputs": [
    {
     "name": "stdout",
     "output_type": "stream",
     "text": [
      "Tweet başarıyla atıldı!\n",
      "Tweet ID: 1869671730836316361\n"
     ]
    }
   ],
   "source": [
    "tweet = \"up to the moon🚀\"\n",
    "try:\n",
    "    response = client.create_tweet(text=tweet)\n",
    "    print(\"Tweet başarıyla atıldı!\")\n",
    "    print(f\"Tweet ID: {response.data['id']}\")\n",
    "except Exception as e:\n",
    "    print(f\"Bir hata oluştu: {e}\")"
   ]
  }
 ],
 "metadata": {
  "kernelspec": {
   "display_name": ".venv",
   "language": "python",
   "name": "python3"
  },
  "language_info": {
   "codemirror_mode": {
    "name": "ipython",
    "version": 3
   },
   "file_extension": ".py",
   "mimetype": "text/x-python",
   "name": "python",
   "nbconvert_exporter": "python",
   "pygments_lexer": "ipython3",
   "version": "3.12.3"
  }
 },
 "nbformat": 4,
 "nbformat_minor": 2
}
